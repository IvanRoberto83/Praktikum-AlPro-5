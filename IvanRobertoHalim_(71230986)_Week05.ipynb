{
  "nbformat": 4,
  "nbformat_minor": 0,
  "metadata": {
    "colab": {
      "provenance": []
    },
    "kernelspec": {
      "name": "python3",
      "display_name": "Python 3"
    },
    "language_info": {
      "name": "python"
    }
  },
  "cells": [
    {
      "cell_type": "code",
      "execution_count": 1,
      "metadata": {
        "colab": {
          "base_uri": "https://localhost:8080/"
        },
        "id": "Fpr4VCysDjrW",
        "outputId": "9b3a9c3a-4364-4fb4-8bd2-b0789ea764ac"
      },
      "outputs": [
        {
          "output_type": "stream",
          "name": "stdout",
          "text": [
            "Masukkan angka : 6\n",
            "Mau dikali berapa : 5\n",
            "6 x 5 = 5 + 5 + 5 + 5 + 5 + 5 = 30\n"
          ]
        }
      ],
      "source": [
        "#Soal 1\n",
        "\n",
        "def perkalian():\n",
        "    angka = int(input(\"Masukkan angka : \"))\n",
        "    kali = int(input(\"Mau dikali berapa : \"))\n",
        "\n",
        "    tanda_awal = (f\"{angka} x {kali} =\")\n",
        "    penjumlahan_berulang = (f\" + \".join([str(kali) for x in range(angka)]))\n",
        "    hasil = (f\"= {angka*kali}\")\n",
        "\n",
        "    print(tanda_awal, penjumlahan_berulang, hasil)\n",
        "\n",
        "perkalian()"
      ]
    },
    {
      "cell_type": "code",
      "source": [
        "#Soal 2\n",
        "\n",
        "def ganjil():\n",
        "    bawah = int(input(\"Bawah : \"))\n",
        "    atas = int(input(\"Atas : \"))\n",
        "\n",
        "    if bawah < atas:\n",
        "        for i in range(bawah, atas+1):\n",
        "            if i % 2 != 0:\n",
        "                print(i)\n",
        "\n",
        "    elif bawah > atas:\n",
        "        for i in range(bawah, atas-1, -1):\n",
        "            if i % 2 != 0:\n",
        "                print(i)\n",
        "\n",
        "ganjil()"
      ],
      "metadata": {
        "colab": {
          "base_uri": "https://localhost:8080/"
        },
        "id": "yAP7UTQDD_sg",
        "outputId": "440ef3e3-774b-4573-aaa7-9eee9414bbaa"
      },
      "execution_count": 2,
      "outputs": [
        {
          "output_type": "stream",
          "name": "stdout",
          "text": [
            "Bawah : 97\n",
            "Atas : 82\n",
            "97\n",
            "95\n",
            "93\n",
            "91\n",
            "89\n",
            "87\n",
            "85\n",
            "83\n"
          ]
        }
      ]
    },
    {
      "cell_type": "code",
      "source": [
        "#Soal 3\n",
        "\n",
        "def ips():\n",
        "    matkul = int(input(\"Berapa jumlah mata kuliah : \"))\n",
        "    total = 0\n",
        "    for i in range(1, matkul + 1):\n",
        "        x = input(f\"Nilai Mata Kuliah {i} : \")\n",
        "\n",
        "        if x == 'A':\n",
        "            total += 4\n",
        "        elif x == 'B':\n",
        "            total += 3\n",
        "        elif x == 'C':\n",
        "            total += 2\n",
        "        elif x == 'D':\n",
        "            total += 1\n",
        "\n",
        "    total = total/i\n",
        "    print(f\"Nilai IPS Anda pada semester ini adalah : {total:.2f}\")\n",
        "\n",
        "ips()"
      ],
      "metadata": {
        "colab": {
          "base_uri": "https://localhost:8080/"
        },
        "id": "YJblxOz7EOQT",
        "outputId": "ea67f1be-c395-4860-a165-52d19a600016"
      },
      "execution_count": 3,
      "outputs": [
        {
          "output_type": "stream",
          "name": "stdout",
          "text": [
            "Berapa jumlah mata kuliah : 6\n",
            "Nilai Mata Kuliah 1 : A\n",
            "Nilai Mata Kuliah 2 : B\n",
            "Nilai Mata Kuliah 3 : C\n",
            "Nilai Mata Kuliah 4 : A\n",
            "Nilai Mata Kuliah 5 : D\n",
            "Nilai Mata Kuliah 6 : C\n",
            "Nilai IPS Anda pada semester ini adalah : 2.67\n"
          ]
        }
      ]
    }
  ]
}